{
  "cells": [
    {
      "cell_type": "markdown",
      "metadata": {
        "id": "view-in-github",
        "colab_type": "text"
      },
      "source": [
        "<a href=\"https://colab.research.google.com/github/nandanajayachandran/NANDANA_J_ICT_ASSIGNMENTS_CASE_STUDIES/blob/main/Preprocessing_Training_Vegetable.ipynb\" target=\"_parent\"><img src=\"https://colab.research.google.com/assets/colab-badge.svg\" alt=\"Open In Colab\"/></a>"
      ]
    },
    {
      "cell_type": "code",
      "execution_count": null,
      "id": "d3cfb505-5eb9-4c98-a6a4-59e0918aee67",
      "metadata": {
        "id": "d3cfb505-5eb9-4c98-a6a4-59e0918aee67"
      },
      "outputs": [],
      "source": [
        "import os\n",
        "from tensorflow.keras.preprocessing.image import ImageDataGenerator\n",
        "from tensorflow.keras.models import Sequential\n",
        "from tensorflow.keras.layers import Conv2D, MaxPooling2D, Flatten, Dense"
      ]
    },
    {
      "cell_type": "code",
      "execution_count": null,
      "id": "7db8aef4-2826-408b-81e3-e1dc0174660f",
      "metadata": {
        "id": "7db8aef4-2826-408b-81e3-e1dc0174660f"
      },
      "outputs": [],
      "source": [
        "#Setting path\n",
        "train_path = \"C:\\\\Users\\\\Dell\\\\Desktop\\\\Learn Python\\\\Vegetables\\\\Vegetable Images\\\\train\"\n",
        "test_path = \"C:\\\\Users\\\\Dell\\\\Desktop\\\\Learn Python\\\\Vegetables\\\\Vegetable Images\\\\test\""
      ]
    },
    {
      "cell_type": "code",
      "execution_count": null,
      "id": "2847f1b1-8720-4f75-aa12-c4053452f751",
      "metadata": {
        "id": "2847f1b1-8720-4f75-aa12-c4053452f751"
      },
      "outputs": [],
      "source": [
        "#Creating ImageDataGenerator\n",
        "datagen = ImageDataGenerator(rescale=1./255, shear_range=0.2, zoom_range=0.2, horizontal_flip=True)"
      ]
    },
    {
      "cell_type": "code",
      "execution_count": null,
      "id": "6e457f2b-6646-4f8f-8459-7f299ad8f6e1",
      "metadata": {
        "id": "6e457f2b-6646-4f8f-8459-7f299ad8f6e1",
        "outputId": "8bffcb27-88ab-4365-e33b-78b1232db7ca"
      },
      "outputs": [
        {
          "name": "stdout",
          "output_type": "stream",
          "text": [
            "Found 12628 images belonging to 13 classes.\n"
          ]
        }
      ],
      "source": [
        "#Loading the training data\n",
        "train_data = datagen.flow_from_directory(train_path, target_size=(224, 224), batch_size=32, class_mode='binary')"
      ]
    },
    {
      "cell_type": "code",
      "execution_count": null,
      "id": "aeef3b33-411a-43df-8c02-cd14245d827d",
      "metadata": {
        "id": "aeef3b33-411a-43df-8c02-cd14245d827d",
        "outputId": "b1fdd95a-7b1b-4cab-cfb6-5ee2b795ba05"
      },
      "outputs": [
        {
          "name": "stdout",
          "output_type": "stream",
          "text": [
            "Found 3000 images belonging to 15 classes.\n"
          ]
        }
      ],
      "source": [
        "#Loading the test data\n",
        "test_data = datagen.flow_from_directory(test_path, target_size=(224, 224), batch_size=32, class_mode='binary')"
      ]
    },
    {
      "cell_type": "code",
      "execution_count": null,
      "id": "8180660e-af68-445d-a9f8-afd9adc6eeaf",
      "metadata": {
        "id": "8180660e-af68-445d-a9f8-afd9adc6eeaf"
      },
      "outputs": [],
      "source": [
        "#CNN model\n",
        "model = Sequential()"
      ]
    },
    {
      "cell_type": "code",
      "execution_count": null,
      "id": "6ec510c9-24d6-4c12-ac63-a5ca45a4f9d3",
      "metadata": {
        "id": "6ec510c9-24d6-4c12-ac63-a5ca45a4f9d3"
      },
      "outputs": [],
      "source": [
        "model.add(Conv2D(32, (3, 3), input_shape=(224, 224, 3), activation='relu'))\n",
        "model.add(MaxPooling2D(pool_size=(2, 2)))\n",
        "\n",
        "model.add(Conv2D(64, (3, 3), activation='relu'))\n",
        "model.add(MaxPooling2D(pool_size=(2, 2)))\n",
        "\n",
        "model.add(Flatten())\n",
        "model.add(Dense(units=128, activation='relu'))\n",
        "model.add(Dense(units=1, activation='sigmoid'))\n",
        "\n",
        "model.compile(optimizer='adam', loss='binary_crossentropy', metrics=['accuracy'])"
      ]
    },
    {
      "cell_type": "code",
      "execution_count": null,
      "id": "243cca99-fc8b-4bb9-b1a1-24ad15011511",
      "metadata": {
        "id": "243cca99-fc8b-4bb9-b1a1-24ad15011511",
        "outputId": "88d9d5b9-2aad-4635-b2b7-4e2ef10316cb"
      },
      "outputs": [
        {
          "name": "stdout",
          "output_type": "stream",
          "text": [
            "Epoch 1/10\n",
            "395/395 [==============================] - 1414s 4s/step - loss: -19875577856.0000 - accuracy: 0.0793 - val_loss: -141837959168.0000 - val_accuracy: 0.0667\n",
            "Epoch 2/10\n",
            "395/395 [==============================] - 1277s 3s/step - loss: -742960398336.0000 - accuracy: 0.0792 - val_loss: -2534179864576.0000 - val_accuracy: 0.0667\n",
            "Epoch 3/10\n",
            "395/395 [==============================] - 2548s 6s/step - loss: -4991698862080.0000 - accuracy: 0.0792 - val_loss: -12244825931776.0000 - val_accuracy: 0.0667\n",
            "Epoch 4/10\n",
            "395/395 [==============================] - 1954s 5s/step - loss: -17175656005632.0000 - accuracy: 0.0792 - val_loss: -35425464877056.0000 - val_accuracy: 0.0667\n",
            "Epoch 5/10\n",
            "395/395 [==============================] - 3422s 9s/step - loss: -42051030745088.0000 - accuracy: 0.0792 - val_loss: -78274059304960.0000 - val_accuracy: 0.0667\n",
            "Epoch 6/10\n",
            "222/395 [===============>..............] - ETA: 10:23 - loss: -72338934595584.0000 - accuracy: 0.0804"
          ]
        }
      ],
      "source": [
        "#Training the model\n",
        "model.fit(train_data, epochs=10, validation_data=test_data)\n",
        "\n",
        "#Evaluation of the model\n",
        "loss, accuracy = model.evaluate(test_data)\n",
        "print(f\"Test Accuracy: {accuracy * 100:.2f}%\")\n",
        "\n",
        "#Model - Saiving\n",
        "model.save(\"vegetable_classification_model.h5\")"
      ]
    },
    {
      "cell_type": "code",
      "execution_count": null,
      "id": "c3bd7131-f0de-45f5-8f67-8001f9fa68dc",
      "metadata": {
        "id": "c3bd7131-f0de-45f5-8f67-8001f9fa68dc"
      },
      "outputs": [],
      "source": []
    },
    {
      "cell_type": "code",
      "execution_count": null,
      "id": "70026870-b9b5-4d08-9c96-75ffa9efa63a",
      "metadata": {
        "id": "70026870-b9b5-4d08-9c96-75ffa9efa63a"
      },
      "outputs": [],
      "source": []
    }
  ],
  "metadata": {
    "kernelspec": {
      "display_name": "Python 3 (ipykernel)",
      "language": "python",
      "name": "python3"
    },
    "language_info": {
      "codemirror_mode": {
        "name": "ipython",
        "version": 3
      },
      "file_extension": ".py",
      "mimetype": "text/x-python",
      "name": "python",
      "nbconvert_exporter": "python",
      "pygments_lexer": "ipython3",
      "version": "3.8.10"
    },
    "colab": {
      "provenance": [],
      "include_colab_link": true
    }
  },
  "nbformat": 4,
  "nbformat_minor": 5
}